{
 "cells": [
  {
   "cell_type": "markdown",
   "metadata": {},
   "source": [
    "# Description\n",
    "This notebook can be used to read and clean up the SQL-dump of \"Spaces\" that has been provided by Fernando, making it ready to be used in the pipeline. \n",
    "\n",
    "# Setup\n",
    "To run this notebook you'll need a mariadb server on which the sql-file has been imported into a new database. Change the settings to connect to the host in the next section. "
   ]
  },
  {
   "cell_type": "code",
   "execution_count": null,
   "metadata": {},
   "outputs": [],
   "source": [
    "import warnings\n",
    "import pandas as pd\n",
    "import mysql.connector\n",
    "import json\n",
    "\n",
    "# disable warnings\n",
    "warnings.filterwarnings('ignore')\n",
    "\n",
    "# connect to database\n",
    "conn = mysql.connector.connect(user='your_user', password='your_password',\n",
    "                              host='127.0.0.1',\n",
    "                              database='your_db')"
   ]
  },
  {
   "cell_type": "code",
   "execution_count": null,
   "metadata": {},
   "outputs": [],
   "source": [
    "\n",
    "# get data for articles\n",
    "query = \"SELECT * FROM spaces\"\n",
    "df_spaces = pd.read_sql(query, conn)\n",
    "query = \"SELECT * FROM posts\"\n",
    "df_posts = pd.read_sql(query, conn)\n",
    "\n",
    "# get data for Spaces\n",
    "query = \"SELECT * FROM pages\"\n",
    "df_pages = pd.read_sql(query, conn)\n",
    "query = \"SELECT * FROM tags\"\n",
    "df_tags = pd.read_sql(query, conn)\n",
    "query = \"SELECT * FROM taggables\"\n",
    "df_taggables = pd.read_sql(query, conn)\n",
    "\n",
    "# get data for users\n",
    "query = \"SELECT * FROM users\"\n",
    "df_users = pd.read_sql(query, conn)\n",
    "query = \"SELECT * FROM space_user\"\n",
    "df_space_user = pd.read_sql(query, conn)\n",
    "\n",
    "# get data for learning materials\n",
    "query = \"SELECT * FROM books\"\n",
    "df_books = pd.read_sql(query, conn)\n",
    "query = \"SELECT * FROM files\"\n",
    "df_files = pd.read_sql(query, conn)\n",
    "\n",
    "# close connection\n",
    "conn.close()"
   ]
  },
  {
   "cell_type": "code",
   "execution_count": null,
   "metadata": {},
   "outputs": [],
   "source": [
    "df_spaces.info()"
   ]
  },
  {
   "cell_type": "code",
   "execution_count": null,
   "metadata": {},
   "outputs": [],
   "source": [
    "# merge spaces and pages on space_id\n",
    "merged_df = pd.merge(df_spaces, df_pages, left_on='id', right_on='space_id')\n",
    "\n",
    "# pivot the merged dataframe to create new columns for portrait and sidebar\n",
    "pivoted_df = merged_df.pivot(index='space_id', columns='slug_y', values='content')\n",
    "\n",
    "# rename the columns to match the desired column names\n",
    "pivoted_df = pivoted_df.rename(columns={'portrait': 'portrait_content', 'sidebar': 'sidebar_content', 'exercise': 'exercise_content'})\n",
    "\n",
    "# merge the pivoted dataframe back to the original df_spaces dataframe\n",
    "df_spaces = pd.merge(df_spaces, pivoted_df, left_on='id', right_on='space_id')\n",
    "\n",
    "# merge tags and taggables on tag_id\n",
    "merged_df = pd.merge(df_tags, df_taggables, left_on='id', right_on='tag_id')\n",
    "\n",
    "# collapse to one row per taggable_id, keeüing all tags in a dictionary\n",
    "merged_df = merged_df.groupby('taggable_id').agg({'name': lambda x: list(x)}).reset_index()\n",
    "\n",
    "# merge the merged_df with df_spaces on id and taggable_id and drop the taggable_id column, also rename the name column to tags\n",
    "df_spaces = pd.merge(df_spaces, merged_df, left_on='id', right_on='taggable_id').drop(['taggable_id', 'color_scheme_id', 'created_at', 'updated_at', 'deleted_at'], axis=1).rename(columns={'name_x': 'name', 'name_y': 'tags'})"
   ]
  },
  {
   "cell_type": "code",
   "execution_count": null,
   "metadata": {},
   "outputs": [],
   "source": [
    "# convert column settings to string\n",
    "df_spaces['settings'] = df_spaces['settings'].astype(str)\n",
    "\n",
    "# extract the dictionary from the string\n",
    "df_spaces['settings'] = df_spaces['settings'].str.extract(r\"(\\{.*\\})\")\n",
    "\n",
    "# convert settings dictionary string to columns and values\n",
    "df_spaces = df_spaces.join(df_spaces['settings'].str.strip('{}').str.split(', ', expand=True).add_prefix('setting_'))\n",
    "\n",
    "# drop the settings column\n",
    "df_spaces = df_spaces.drop('settings', axis=1)\n",
    "\n",
    "# rename setting_0 to ects and extract only the number\n",
    "df_spaces = df_spaces.rename(columns={'setting_0': 'ects'})\n",
    "df_spaces['ects'] = df_spaces['ects'].str.extract(r\"(\\d+)\")\n",
    "\n",
    "# rename setting_1 to semester and extract only the string after the colon\n",
    "df_spaces = df_spaces.rename(columns={'setting_1': 'semester'})\n",
    "df_spaces['semester'] = df_spaces['semester'].str.extract(r':(.*)')\n",
    "# remove the \"s from the semester column\n",
    "df_spaces['semester'] = df_spaces['semester'].str.replace('\"', '')"
   ]
  },
  {
   "cell_type": "code",
   "execution_count": null,
   "metadata": {},
   "outputs": [],
   "source": [
    "# define a function to extract the values from the dictionaries in the tags column\n",
    "def extract_tags(tags):\n",
    "    tag_values = []\n",
    "    for tag in tags:\n",
    "        # convert the bytes object to a string and remove the b' prefix and ' suffix\n",
    "        tag_str = tag.decode('utf-8').replace(\"b'\", \"\").replace(\"'\", \"\")\n",
    "        # load the string as a JSON object\n",
    "        tag_dict = json.loads(tag_str)\n",
    "        # append the value of the dictionary to the list of tag values\n",
    "        tag_values.append(list(tag_dict.values())[0])\n",
    "    return tag_values\n",
    "\n",
    "# apply the function to the tags column and create a new column with the extracted values\n",
    "df_spaces['tag_values'] = df_spaces['tags'].apply(extract_tags)\n",
    "\n",
    "# drop the tags column\n",
    "df_spaces = df_spaces.drop('tags', axis=1)"
   ]
  },
  {
   "cell_type": "code",
   "execution_count": null,
   "metadata": {},
   "outputs": [],
   "source": [
    "df_spaces.head()"
   ]
  }
 ],
 "metadata": {
  "kernelspec": {
   "display_name": "Python 3",
   "language": "python",
   "name": "python3"
  },
  "language_info": {
   "codemirror_mode": {
    "name": "ipython",
    "version": 3
   },
   "file_extension": ".py",
   "mimetype": "text/x-python",
   "name": "python",
   "nbconvert_exporter": "python",
   "pygments_lexer": "ipython3",
   "version": "3.10.6"
  },
  "orig_nbformat": 4
 },
 "nbformat": 4,
 "nbformat_minor": 2
}
